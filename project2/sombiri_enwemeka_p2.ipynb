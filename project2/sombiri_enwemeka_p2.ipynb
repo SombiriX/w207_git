{
 "cells": [
  {
   "cell_type": "markdown",
   "metadata": {},
   "source": [
    "# Project 2: Topic Classification"
   ]
  },
  {
   "cell_type": "markdown",
   "metadata": {},
   "source": [
    "In this project, you'll work with text data from newsgroup postings on a variety of topics. You'll train classifiers to distinguish between the topics based on the text of the posts. Whereas with digit classification, the input is relatively dense: a 28x28 matrix of pixels, many of which are non-zero, here we'll represent each document with a \"bag-of-words\" model. As you'll see, this makes the feature representation quite sparse -- only a few words of the total vocabulary are active in any given document. The bag-of-words assumption here is that the label depends only on the words; their order is not important.\n",
    "\n",
    "The SK-learn documentation on feature extraction will prove useful:\n",
    "http://scikit-learn.org/stable/modules/feature_extraction.html\n",
    "\n",
    "Each problem can be addressed succinctly with the included packages -- please don't add any more. Grading will be based on writing clean, commented code, along with a few short answers.\n",
    "\n",
    "As always, you're welcome to work on the project in groups and discuss ideas on the course wall, but please prepare your own write-up and write your own code."
   ]
  },
  {
   "cell_type": "code",
   "execution_count": 2,
   "metadata": {},
   "outputs": [
    {
     "name": "stderr",
     "output_type": "stream",
     "text": [
      "C:\\Program Files\\Anaconda2\\lib\\site-packages\\sklearn\\cross_validation.py:44: DeprecationWarning: This module was deprecated in version 0.18 in favor of the model_selection module into which all the refactored classes and functions are moved. Also note that the interface of the new CV iterators are different from that of this module. This module will be removed in 0.20.\n",
      "  \"This module will be removed in 0.20.\", DeprecationWarning)\n",
      "C:\\Program Files\\Anaconda2\\lib\\site-packages\\sklearn\\grid_search.py:43: DeprecationWarning: This module was deprecated in version 0.18 in favor of the model_selection module into which all the refactored classes and functions are moved. This module will be removed in 0.20.\n",
      "  DeprecationWarning)\n"
     ]
    }
   ],
   "source": [
    "# This tells matplotlib not to try opening a new window for each plot.\n",
    "%matplotlib inline\n",
    "\n",
    "# General libraries.\n",
    "import re\n",
    "import numpy as np\n",
    "import pandas as pd\n",
    "import matplotlib.pyplot as plt\n",
    "\n",
    "# SK-learn libraries for learning.\n",
    "from sklearn.pipeline import Pipeline\n",
    "from sklearn.neighbors import KNeighborsClassifier\n",
    "from sklearn.linear_model import LogisticRegression\n",
    "from sklearn.naive_bayes import BernoulliNB\n",
    "from sklearn.naive_bayes import MultinomialNB\n",
    "from sklearn.grid_search import GridSearchCV\n",
    "\n",
    "# SK-learn libraries for evaluation.\n",
    "from sklearn.metrics import confusion_matrix\n",
    "from sklearn import metrics\n",
    "from sklearn.metrics import classification_report\n",
    "\n",
    "# SK-learn library for importing the newsgroup data.\n",
    "from sklearn.datasets import fetch_20newsgroups\n",
    "\n",
    "# SK-learn libraries for feature extraction from text.\n",
    "from sklearn.feature_extraction.text import *"
   ]
  },
  {
   "cell_type": "markdown",
   "metadata": {},
   "source": [
    "Load the data, stripping out metadata so that we learn classifiers that only use textual features. By default, newsgroups data is split into train and test sets. We further split the test so we have a dev set. Note that we specify 4 categories to use for this project. If you remove the categories argument from the fetch function, you'll get all 20 categories."
   ]
  },
  {
   "cell_type": "code",
   "execution_count": 3,
   "metadata": {},
   "outputs": [
    {
     "name": "stdout",
     "output_type": "stream",
     "text": [
      "training label shape: (2034L,)\n",
      "test label shape: (677L,)\n",
      "dev label shape: (676L,)\n",
      "labels names: ['alt.atheism', 'comp.graphics', 'sci.space', 'talk.religion.misc']\n"
     ]
    }
   ],
   "source": [
    "categories = ['alt.atheism', 'talk.religion.misc', 'comp.graphics', 'sci.space']\n",
    "newsgroups_train = fetch_20newsgroups(subset='train',\n",
    "                                      remove=('headers', 'footers', 'quotes'),\n",
    "                                      categories=categories)\n",
    "newsgroups_test = fetch_20newsgroups(subset='test',\n",
    "                                     remove=('headers', 'footers', 'quotes'),\n",
    "                                     categories=categories)\n",
    "\n",
    "num_test = len(newsgroups_test.target)\n",
    "test_data, test_labels = newsgroups_test.data[num_test/2:], newsgroups_test.target[num_test/2:]\n",
    "dev_data, dev_labels = newsgroups_test.data[:num_test/2], newsgroups_test.target[:num_test/2]\n",
    "train_data, train_labels = newsgroups_train.data, newsgroups_train.target\n",
    "\n",
    "print 'training label shape:', train_labels.shape\n",
    "print 'test label shape:', test_labels.shape\n",
    "print 'dev label shape:', dev_labels.shape\n",
    "print 'labels names:', newsgroups_train.target_names"
   ]
  },
  {
   "cell_type": "markdown",
   "metadata": {},
   "source": [
    "(1) For each of the first 5 training examples, print the text of the message along with the label."
   ]
  },
  {
   "cell_type": "code",
   "execution_count": 4,
   "metadata": {},
   "outputs": [
    {
     "name": "stdout",
     "output_type": "stream",
     "text": [
      "********************************************************************************\n",
      "TEXT: Hi,\n",
      "\n",
      "I've noticed that if you only save a model (with all your mapping planes\n",
      "positioned carefully) to a .3DS file that when you reload it after restarting\n",
      "3DS, they are given a default position and orientation.  But if you save\n",
      "to a .PRJ file their positions/orientation are preserved.  Does anyone\n",
      "know why this information is not stored in the .3DS file?  Nothing is\n",
      "explicitly said in the manual about saving texture rules in the .PRJ file. \n",
      "I'd like to be able to read the texture rule information, does anyone have \n",
      "the format for the .PRJ file?\n",
      "\n",
      "Is the .CEL file format available from somewhere?\n",
      "\n",
      "Rych\r\n",
      "LABEL: comp.graphics\r\n",
      "********************************************************************************\n",
      "TEXT: \n",
      "\n",
      "Seems to be, barring evidence to the contrary, that Koresh was simply\n",
      "another deranged fanatic who thought it neccessary to take a whole bunch of\n",
      "folks with him, children and all, to satisfy his delusional mania. Jim\n",
      "Jones, circa 1993.\n",
      "\n",
      "\n",
      "Nope - fruitcakes like Koresh have been demonstrating such evil corruption\n",
      "for centuries.\r\n",
      "LABEL: talk.religion.misc\r\n",
      "********************************************************************************\n",
      "TEXT: \n",
      " >In article <1993Apr19.020359.26996@sq.sq.com>, msb@sq.sq.com (Mark Brader) \n",
      "\n",
      "MB>                                                             So the\n",
      "MB> 1970 figure seems unlikely to actually be anything but a perijove.\n",
      "\n",
      "JG>Sorry, _perijoves_...I'm not used to talking this language.\n",
      "\n",
      "Couldn't we just say periapsis or apoapsis?\n",
      "\n",
      " \r\n",
      "LABEL: sci.space\r\n",
      "********************************************************************************\n",
      "TEXT: I have a request for those who would like to see Charley Wingate\n",
      "respond to the \"Charley Challenges\" (and judging from my e-mail, there\n",
      "appear to be quite a few of you.)  \n",
      "\n",
      "It is clear that Mr. Wingate intends to continue to post tangential or\n",
      "unrelated articles while ingoring the Challenges themselves.  Between\n",
      "the last two re-postings of the Challenges, I noted perhaps a dozen or\n",
      "more posts by Mr. Wingate, none of which answered a single Challenge.  \n",
      "\n",
      "It seems unmistakable to me that Mr. Wingate hopes that the questions\n",
      "will just go away, and he is doing his level best to change the\n",
      "subject.  Given that this seems a rather common net.theist tactic, I\n",
      "would like to suggest that we impress upon him our desire for answers,\n",
      "in the following manner:\n",
      "\n",
      "1. Ignore any future articles by Mr. Wingate that do not address the\n",
      "Challenges, until he answers them or explictly announces that he\n",
      "refuses to do so.\n",
      "\n",
      "--or--\n",
      "\n",
      "2. If you must respond to one of his articles, include within it\n",
      "something similar to the following:\n",
      "\n",
      "    \"Please answer the questions posed to you in the Charley Challenges.\"\n",
      "\n",
      "Really, I'm not looking to humiliate anyone here, I just want some\n",
      "honest answers.  You wouldn't think that honesty would be too much to\n",
      "ask from a devout Christian, would you?  \n",
      "\n",
      "Nevermind, that was a rhetorical question.\r\n",
      "LABEL: alt.atheism\r\n",
      "********************************************************************************\n",
      "TEXT: AW&ST  had a brief blurb on a Manned Lunar Exploration confernce\n",
      "May 7th  at Crystal City Virginia, under the auspices of AIAA.\n",
      "\n",
      "Does anyone know more about this?  How much, to attend????\n",
      "\n",
      "Anyone want to go?\r\n",
      "LABEL: sci.space\r\n",
      "********************************************************************************\n"
     ]
    }
   ],
   "source": [
    "def P1(num_examples=5):\n",
    "### STUDENT START ###\n",
    "    section_break = '*' * 80  # Delimiter for each entry\n",
    "    print section_break\n",
    "    # Print the first 5 entries from the training set taking care to\n",
    "    # handle unicode text\n",
    "    for words, label in zip(train_data[:num_examples],\n",
    "                            train_labels[:num_examples]):\n",
    "        print \"TEXT: {}\\r\\nLABEL: {}\\r\\n{}\".format(\n",
    "            words.encode('utf-8'),\n",
    "            newsgroups_train.target_names[label],\n",
    "            section_break)\n",
    "\n",
    "### STUDENT END ###\n",
    "P1()\n",
    "\n"
   ]
  },
  {
   "cell_type": "markdown",
   "metadata": {},
   "source": [
    "(2) Use CountVectorizer to turn the raw training text into feature vectors. You should use the fit_transform function, which makes 2 passes through the data: first it computes the vocabulary (\"fit\"), second it converts the raw text into feature vectors using the vocabulary (\"transform\").\n",
    "\n",
    "The vectorizer has a lot of options. To get familiar with some of them, write code to answer these questions:\n",
    "\n",
    "a. The output of the transform (also of fit_transform) is a sparse matrix: http://docs.scipy.org/doc/scipy-0.14.0/reference/generated/scipy.sparse.csr_matrix.html. What is the size of the vocabulary? What is the average number of non-zero features per example? What fraction of the entries in the matrix are non-zero? Hint: use \"nnz\" and \"shape\" attributes.\n",
    "\n",
    "b. What are the 0th and last feature strings (in alphabetical order)? Hint: use the vectorizer's get_feature_names function.\n",
    "\n",
    "c. Specify your own vocabulary with 4 words: [\"atheism\", \"graphics\", \"space\", \"religion\"]. Confirm the training vectors are appropriately shaped. Now what's the average number of non-zero features per example?\n",
    "\n",
    "d. Instead of extracting unigram word features, use \"analyzer\" and \"ngram_range\" to extract bigram and trigram character features. What size vocabulary does this yield?\n",
    "\n",
    "e. Use the \"min_df\" argument to prune words that appear in fewer than 10 documents. What size vocabulary does this yield?\n",
    "\n",
    "f. Using the standard CountVectorizer, what fraction of the words in the dev data are missing from the vocabulary? Hint: build a vocabulary for both train and dev and look at the size of the difference."
   ]
  },
  {
   "cell_type": "code",
   "execution_count": 5,
   "metadata": {},
   "outputs": [
    {
     "name": "stdout",
     "output_type": "stream",
     "text": [
      "a. Our vocabulary has 26879 entries, there are on average 96.71 non-zero features per example.\n",
      "b. The 0th and last feature strings are '00' and 'zyxel' respectively.\n",
      "c. Using the supplied vocabulary there are on average 0.27 non-zero features per example.\n",
      "d. Using bigram and trigram features, the new vocabulary has 28954 entries.\n",
      "e. The vocabulary has 3064 entries when the minimum word frequency is 10.\n",
      "f. 24.79% of vocabulary entries in dev data do not appear in training data.\n"
     ]
    }
   ],
   "source": [
    "def P2():\n",
    "### STUDENT START ###\n",
    "    # Instantiate the count vectorizer and fit / transform our training data.\n",
    "    vectorizer = CountVectorizer()\n",
    "    train_data_vect = vectorizer.fit_transform(train_data)\n",
    "\n",
    "    # A\n",
    "    print \"a. Our vocabulary has {} entries, \"\\\n",
    "        \"there are on average {:0.2f} non-zero features per example.\".format(\n",
    "            train_data_vect.shape[1],\n",
    "            1.0 * train_data_vect.nnz / train_data_vect.shape[0])\n",
    "    # B\n",
    "    print \"b. The 0th and last feature strings are '{}' and '{}' respectively\"\\\n",
    "        \".\".format(sorted(vectorizer.get_feature_names())[0],\n",
    "                   sorted(vectorizer.get_feature_names())[-1])\n",
    "    # C\n",
    "    my_vocab = [\"atheism\", \"graphics\", \"space\", \"religion\"]\n",
    "    vocab_vectorizer = CountVectorizer(vocabulary=my_vocab)\n",
    "    vocab_td_vect = vocab_vectorizer.fit_transform(train_data)\n",
    "    print \"c. Using the supplied vocabulary there are on average {:0.2f} \"\\\n",
    "        \"non-zero features per example.\".format(\n",
    "            1.0 * vocab_td_vect.nnz / vocab_td_vect.shape[0])\n",
    "    # D\n",
    "    ngram_vectorizer = CountVectorizer(analyzer=\"char_wb\", ngram_range=(2, 3))\n",
    "    ngram_td_vect = ngram_vectorizer.fit_transform(train_data)\n",
    "    print \"d. Using bigram and trigram features, the new vocabulary has {} \"\\\n",
    "        \"entries.\".format(\n",
    "            ngram_td_vect.shape[1])\n",
    "    # E\n",
    "    min_freq = 10\n",
    "    min_df_vectorizer = CountVectorizer(min_df=min_freq)\n",
    "    min_df_td_vect = min_df_vectorizer.fit_transform(train_data)\n",
    "    print \"e. The vocabulary has {} entries when the minimum word frequency\"\\\n",
    "        \" is {}.\".format(\n",
    "            min_df_td_vect.shape[1],\n",
    "            min_freq)\n",
    "    # F\n",
    "    dev_vectorizer = CountVectorizer()\n",
    "    dev_data_vect = dev_vectorizer.fit_transform(dev_data)\n",
    "    num_common_vocab = len(list(set(vectorizer.get_feature_names())\n",
    "                                & set(dev_vectorizer.get_feature_names())))\n",
    "    num_dev_not_in_train = dev_data_vect.shape[1] - num_common_vocab\n",
    "    dev_fract_missing = 100.0 * num_dev_not_in_train / dev_data_vect.shape[1]\n",
    "    print \"f. {:0.2f}% of vocabulary entries in dev data do not appear in \"\\\n",
    "        \"training data.\".format(dev_fract_missing)\n",
    "\n",
    "### STUDENT END ###\n",
    "P2()\n"
   ]
  },
  {
   "cell_type": "markdown",
   "metadata": {},
   "source": [
    "(3) Use the default CountVectorizer options and report the f1 score (use metrics.f1_score) for a k nearest neighbors classifier; find the optimal value for k. Also fit a Multinomial Naive Bayes model and find the optimal value for alpha. Finally, fit a logistic regression model and find the optimal value for the regularization strength C using l2 regularization. A few questions:\n",
    "\n",
    "a. Why doesn't nearest neighbors work well for this problem?\n",
    "\n",
    "b. Any ideas why logistic regression doesn't work as well as Naive Bayes?\n",
    "\n",
    "c. Logistic regression estimates a weight vector for each class, which you can access with the coef\\_ attribute. Output the sum of the squared weight values for each class for each setting of the C parameter. Briefly explain the relationship between the sum and the value of C."
   ]
  },
  {
   "cell_type": "code",
   "execution_count": 6,
   "metadata": {},
   "outputs": [
    {
     "name": "stdout",
     "output_type": "stream",
     "text": [
      "kNN:\n",
      "\tOptimal k: 96\n",
      "\tAccuracy: 44.44%\n",
      "\tf1 score: 0.448\n",
      "\n",
      "Naive Bayes:\n",
      "\tOptimal alpha: 0.02\n",
      "\tAccuracy: 82.89%\n",
      "\tf1 score: 0.783\n",
      "\n",
      "Logistic Regression:\n",
      "\tOptimal C: 0.17\n",
      "\tAccuracy: 77.679\n",
      "\tf1 score: 0.708\n",
      "\n",
      "C = 0.1: Sum of Weights^2: [ 27.13  24.66  27.46  23.02]\n",
      "C = 0.2: Sum of Weights^2: [ 49.75  42.75  49.32  42.65]\n",
      "C = 0.3: Sum of Weights^2: [ 69.29  57.87  67.9   59.76]\n",
      "C = 0.4: Sum of Weights^2: [ 86.74  71.16  84.28  75.07]\n",
      "C = 0.5: Sum of Weights^2: [ 102.67   83.09   99.03   89.  ]\n",
      "C = 0.6: Sum of Weights^2: [ 117.2    94.03  112.54  101.85]\n",
      "C = 0.7: Sum of Weights^2: [ 130.86  104.18  124.99  113.78]\n",
      "C = 0.8: Sum of Weights^2: [ 143.63  113.6   136.62  125.08]\n",
      "C = 0.9: Sum of Weights^2: [ 155.59  122.48  147.66  135.69]\n",
      "C = 1.0: Sum of Weights^2: [ 167.01  130.95  157.97  145.74]\n"
     ]
    }
   ],
   "source": [
    "def P3():\n",
    "### STUDENT START ###\n",
    "    # Use default CountVectorizer options\n",
    "    vectorizer = CountVectorizer()\n",
    "    train_data_vect = vectorizer.fit_transform(train_data)\n",
    "    dev_data_vect = vectorizer.transform(dev_data)\n",
    "\n",
    "    # kNN model\n",
    "    # Find best k value using gridSearchCV\n",
    "    grid_knn = GridSearchCV(\n",
    "        KNeighborsClassifier(),\n",
    "        {'n_neighbors': [k for k in range(1, 101)]})\n",
    "    grid_knn.fit(train_data_vect, train_labels)\n",
    "    # Analyze kNN model\n",
    "    # Note: Using the weighted average to account for different numbers of each\n",
    "    #   label\n",
    "    print \"kNN:\\r\\n\" \\\n",
    "        \"\\tOptimal k: {}\\r\\n\" \\\n",
    "        \"\\tAccuracy: {:.2f}%\\r\\n\" \\\n",
    "        \"\\tf1 score: {:.3f}\\r\\n\".format(\n",
    "            grid_knn.best_params_['n_neighbors'],\n",
    "            100.0 * grid_knn.best_score_,\n",
    "            metrics.f1_score(\n",
    "                dev_labels,\n",
    "                grid_knn.predict(dev_data_vect),\n",
    "                average=\"weighted\"))\n",
    "\n",
    "    # Multinomial Naive Bayes model\n",
    "    # Find best alpha value using gridSearchCV\n",
    "    grid_nb = GridSearchCV(\n",
    "        MultinomialNB(),\n",
    "        {\"alpha\": [a / 100.0 for a in range(1, 101)]})\n",
    "    grid_nb.fit(train_data_vect, train_labels)\n",
    "    # Analyze NB model\n",
    "    print \"Naive Bayes:\\r\\n\" \\\n",
    "        \"\\tOptimal alpha: {}\\r\\n\" \\\n",
    "        \"\\tAccuracy: {:.2f}%\\r\\n\"\\\n",
    "        \"\\tf1 score: {:.3f}\\r\\n\".format(\n",
    "            grid_nb.best_params_['alpha'],\n",
    "            100.0 * grid_nb.best_score_,\n",
    "            metrics.f1_score(\n",
    "                dev_labels,\n",
    "                grid_nb.predict(dev_data_vect),\n",
    "                average=\"weighted\"))\n",
    "\n",
    "    # Logistic regression model\n",
    "    # Find best C value using gridSearchCV\n",
    "    grid_lr = GridSearchCV(\n",
    "        LogisticRegression(),\n",
    "        {\"C\": [a / 100.0 for a in range(1, 101)]})\n",
    "    grid_lr.fit(train_data_vect, train_labels)\n",
    "    print \"Logistic Regression:\\r\\n\" \\\n",
    "        \"\\tOptimal C: {}\\r\\n\" \\\n",
    "        \"\\tAccuracy: {:.3f}\\r\\n\" \\\n",
    "        \"\\tf1 score: {:.3f}\\r\\n\".format(\n",
    "            grid_lr.best_params_['C'],\n",
    "            100 * grid_lr.best_score_,\n",
    "            metrics.f1_score(\n",
    "                dev_labels,\n",
    "                grid_lr.predict(dev_data_vect),\n",
    "                average=\"weighted\"))\n",
    "\n",
    "    # Get sum of squared weights for 10 C values between 0.1 and 1\n",
    "    for c in np.arange(0.1, 1.1, 0.1):\n",
    "        lr_clf = LogisticRegression(C=c)\n",
    "        lr_clf.fit(train_data_vect, train_labels)\n",
    "        print (\"C = {}: Sum of Weights^2: {}\".format(\n",
    "            c,\n",
    "            np.round(np.square(lr_clf.coef_).sum(axis=1), 2)))\n",
    "\n",
    "### STUDENT END ###\n",
    "P3()\n"
   ]
  },
  {
   "cell_type": "markdown",
   "metadata": {},
   "source": [
    "ANSWER:\n",
    "a. Why doesn't nearest neighbors work well for this problem?\n",
    "    Due to the \"curse of dimensionality\", about 26800, each point is relatively far from any other point. Specifically, there are a large number of possible words but each document only contains a small subset of them, therefore, to the k-NN classifier each document (bag of words) is difficult to distinguish from any other document.\n",
    "    \n",
    "b. Any ideas why logistic regression doesn't work as well as Naive Bayes?\n",
    "    Logistic regression assumes a linear feature relationship for all class labels which is unlikely. Naive Bayes assumes conditional independence of features given class which is more likely for a \"bag of words\".\n",
    "    \n",
    "c. Briefly explain the relationship between the sum and the value of C.\n",
    "    Smaller values for C increase regularization, this adds a penalty for larger coefficients reducing them towards zero. As C increases the coefficients can become larger which might lead to overfitting the data."
   ]
  },
  {
   "cell_type": "markdown",
   "metadata": {},
   "source": [
    "(4) Train a logistic regression model. Find the 5 features with the largest weights for each label -- 20 features in total. Create a table with 20 rows and 4 columns that shows the weight for each of these features for each of the labels. Create the table again with bigram features. Any surprising features in this table?"
   ]
  },
  {
   "cell_type": "code",
   "execution_count": 5,
   "metadata": {
    "collapsed": true
   },
   "outputs": [],
   "source": [
    "#def P4():\n",
    "### STUDENT START ###\n",
    "\n",
    "### STUDENT END ###\n",
    "#P4()"
   ]
  },
  {
   "cell_type": "markdown",
   "metadata": {},
   "source": [
    "ANSWER:"
   ]
  },
  {
   "cell_type": "markdown",
   "metadata": {},
   "source": [
    "(5) Try to improve the logistic regression classifier by passing a custom preprocessor to CountVectorizer. The preprocessing function runs on the raw text, before it is split into words by the tokenizer. Your preprocessor should try to normalize the input in various ways to improve generalization. For example, try lowercasing everything, replacing sequences of numbers with a single token, removing various other non-letter characters, and shortening long words. If you're not already familiar with regular expressions for manipulating strings, see https://docs.python.org/2/library/re.html, and re.sub() in particular. With your new preprocessor, how much did you reduce the size of the dictionary?\n",
    "\n",
    "For reference, I was able to improve dev F1 by 2 points."
   ]
  },
  {
   "cell_type": "code",
   "execution_count": 6,
   "metadata": {
    "collapsed": true
   },
   "outputs": [],
   "source": [
    "#def empty_preprocessor(s):\n",
    "#    return s\n",
    "\n",
    "#def better_preprocessor(s):\n",
    "### STUDENT START ###\n",
    "\n",
    "### STUDENT END ###\n",
    "\n",
    "#def P5():\n",
    "### STUDENT START ###\n",
    "\n",
    "### STUDENT END ###\n",
    "#P5()"
   ]
  },
  {
   "cell_type": "markdown",
   "metadata": {},
   "source": [
    "(6) The idea of regularization is to avoid learning very large weights (which are likely to fit the training data, but not generalize well) by adding a penalty to the total size of the learned weights. That is, logistic regression seeks the set of weights that minimizes errors in the training data AND has a small size. The default regularization, L2, computes this size as the sum of the squared weights (see P3, above). L1 regularization computes this size as the sum of the absolute values of the weights. The result is that whereas L2 regularization makes all the weights relatively small, L1 regularization drives lots of the weights to 0, effectively removing unimportant features.\n",
    "\n",
    "Train a logistic regression model using a \"l1\" penalty. Output the number of learned weights that are not equal to zero. How does this compare to the number of non-zero weights you get with \"l2\"? Now, reduce the size of the vocabulary by keeping only those features that have at least one non-zero weight and retrain a model using \"l2\".\n",
    "\n",
    "Make a plot showing accuracy of the re-trained model vs. the vocabulary size you get when pruning unused features by adjusting the C parameter.\n",
    "\n",
    "Note: The gradient descent code that trains the logistic regression model sometimes has trouble converging with extreme settings of the C parameter. Relax the convergence criteria by setting tol=.01 (the default is .0001)."
   ]
  },
  {
   "cell_type": "code",
   "execution_count": 15,
   "metadata": {
    "collapsed": true
   },
   "outputs": [],
   "source": [
    "#def P6():\n",
    "    # Keep this random seed here to make comparison easier.\n",
    "    #np.random.seed(0)\n",
    "\n",
    "    ### STUDENT START ###\n",
    "    \n",
    "    ### STUDENT END ###\n",
    "#P6()"
   ]
  },
  {
   "cell_type": "markdown",
   "metadata": {},
   "source": [
    "(7) Use the TfidfVectorizer -- how is this different from the CountVectorizer? Train a logistic regression model with C=100.\n",
    "\n",
    "Make predictions on the dev data and show the top 3 documents where the ratio R is largest, where R is:\n",
    "\n",
    "maximum predicted probability / predicted probability of the correct label\n",
    "\n",
    "What kinds of mistakes is the model making? Suggest a way to address one particular issue that you see."
   ]
  },
  {
   "cell_type": "code",
   "execution_count": 16,
   "metadata": {
    "collapsed": true
   },
   "outputs": [],
   "source": [
    "#def P7():\n",
    "### STUDENT START ###\n",
    "\n",
    "## STUDENT END ###\n",
    "#P7()"
   ]
  },
  {
   "cell_type": "markdown",
   "metadata": {},
   "source": [
    "ANSWER:"
   ]
  },
  {
   "cell_type": "markdown",
   "metadata": {},
   "source": [
    "(8) EXTRA CREDIT\n",
    "\n",
    "Try implementing one of your ideas based on your error analysis. Use logistic regression as your underlying model."
   ]
  },
  {
   "cell_type": "code",
   "execution_count": null,
   "metadata": {
    "collapsed": true
   },
   "outputs": [],
   "source": []
  }
 ],
 "metadata": {
  "kernelspec": {
   "display_name": "Python [default]",
   "language": "python",
   "name": "python2"
  },
  "language_info": {
   "codemirror_mode": {
    "name": "ipython",
    "version": 2
   },
   "file_extension": ".py",
   "mimetype": "text/x-python",
   "name": "python",
   "nbconvert_exporter": "python",
   "pygments_lexer": "ipython2",
   "version": "2.7.13"
  }
 },
 "nbformat": 4,
 "nbformat_minor": 1
}
