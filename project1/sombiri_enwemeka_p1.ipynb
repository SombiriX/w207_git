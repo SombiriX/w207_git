{
 "cells": [
  {
   "cell_type": "markdown",
   "metadata": {},
   "source": [
    "# Project 1: Digit Classification with KNN and Naive Bayes"
   ]
  },
  {
   "cell_type": "markdown",
   "metadata": {},
   "source": [
    "In this project, you'll implement your own image recognition system for classifying digits. Read through the code and the instructions carefully and add your own code where indicated. Each problem can be addressed succinctly with the included packages -- please don't add any more. Grading will be based on writing clean, commented code, along with a few short answers.\n",
    "\n",
    "As always, you're welcome to work on the project in groups and discuss ideas on the course wall, but <b> please prepare your own write-up (with your own code). </b>\n",
    "\n",
    "If you're interested, check out these links related to digit recognition:\n",
    "\n",
    "Yann Lecun's MNIST benchmarks: http://yann.lecun.com/exdb/mnist/\n",
    "\n",
    "Stanford Streetview research and data: http://ufldl.stanford.edu/housenumbers/"
   ]
  },
  {
   "cell_type": "code",
   "execution_count": 2,
   "metadata": {},
   "outputs": [
    {
     "name": "stderr",
     "output_type": "stream",
     "text": [
      "/Users/sombiri/anaconda2/lib/python2.7/site-packages/sklearn/cross_validation.py:44: DeprecationWarning: This module was deprecated in version 0.18 in favor of the model_selection module into which all the refactored classes and functions are moved. Also note that the interface of the new CV iterators are different from that of this module. This module will be removed in 0.20.\n",
      "  \"This module will be removed in 0.20.\", DeprecationWarning)\n",
      "/Users/sombiri/anaconda2/lib/python2.7/site-packages/sklearn/grid_search.py:43: DeprecationWarning: This module was deprecated in version 0.18 in favor of the model_selection module into which all the refactored classes and functions are moved. This module will be removed in 0.20.\n",
      "  DeprecationWarning)\n"
     ]
    }
   ],
   "source": [
    "# This tells matplotlib not to try opening a new window for each plot.\n",
    "%matplotlib inline\n",
    "\n",
    "# Import a bunch of libraries.\n",
    "import time\n",
    "import numpy as np\n",
    "import pandas as pd\n",
    "import matplotlib.pyplot as plt\n",
    "from matplotlib.ticker import MultipleLocator\n",
    "from sklearn.pipeline import Pipeline\n",
    "from sklearn.datasets import fetch_mldata\n",
    "from sklearn.neighbors import KNeighborsClassifier\n",
    "from sklearn.metrics import confusion_matrix\n",
    "from sklearn.linear_model import LinearRegression\n",
    "from sklearn.naive_bayes import BernoulliNB\n",
    "from sklearn.naive_bayes import MultinomialNB\n",
    "from sklearn.naive_bayes import GaussianNB\n",
    "from sklearn.grid_search import GridSearchCV\n",
    "from sklearn.metrics import classification_report\n",
    "\n",
    "# Set the randomizer seed so results are the same each time.\n",
    "np.random.seed(0)"
   ]
  },
  {
   "cell_type": "markdown",
   "metadata": {},
   "source": [
    "Load the data. Notice that we are splitting the data into training, development, and test. We also have a small subset of the training data called mini_train_data and mini_train_labels that you should use in all the experiments below, unless otherwise noted."
   ]
  },
  {
   "cell_type": "code",
   "execution_count": 3,
   "metadata": {},
   "outputs": [
    {
     "name": "stdout",
     "output_type": "stream",
     "text": [
      "data shape:  (70000, 784)\n",
      "label shape: (70000,)\n"
     ]
    }
   ],
   "source": [
    "# Load the digit data either from mldata.org, or once downloaded to data_home, from disk. The data is about 53MB so this cell\n",
    "# should take a while the first time your run it.\n",
    "from sys import platform\n",
    "if \"linux\" in platform.lower() or \"darwin\" in platform.lower():\n",
    "    # Linux or OS X\n",
    "    proj_dir = \"~/\"\n",
    "    mnist = fetch_mldata('MNIST original', data_home= proj_dir + \"datasets/mnist\")\n",
    "elif \"windows\" in platform.lower():\n",
    "    # Windows...\n",
    "    proj_dir = \"C:\\Users\\sombiri\\Documents\\software\\w207\\Fall2017-Section2\\Projects\"\n",
    "    mnist = fetch_mldata('MNIST original', data_home= proj_dir + \"\\datasets\\mnist\")\n",
    "X, Y = mnist.data, mnist.target\n",
    "\n",
    "# Rescale grayscale values to [0,1].\n",
    "X = X / 255.0\n",
    "\n",
    "# Shuffle the input: create a random permutation of the integers between 0 and the number of data points and apply this\n",
    "# permutation to X and Y.\n",
    "# NOTE: Each time you run this cell, you'll re-shuffle the data, resulting in a different ordering.\n",
    "shuffle = np.random.permutation(np.arange(X.shape[0]))\n",
    "X, Y = X[shuffle], Y[shuffle]\n",
    "\n",
    "print 'data shape: ', X.shape\n",
    "print 'label shape:', Y.shape\n",
    "\n",
    "# Set some variables to hold test, dev, and training data.\n",
    "test_data, test_labels = X[61000:], Y[61000:]\n",
    "dev_data, dev_labels = X[60000:61000], Y[60000:61000]\n",
    "train_data, train_labels = X[:60000], Y[:60000]\n",
    "mini_train_data, mini_train_labels = X[:1000], Y[:1000]"
   ]
  },
  {
   "cell_type": "markdown",
   "metadata": {},
   "source": [
    "(1) Create a 10x10 grid to visualize 10 examples of each digit. Python hints:\n",
    "\n",
    "- plt.rc() for setting the colormap, for example to black and white\n",
    "- plt.subplot() for creating subplots\n",
    "- plt.imshow() for rendering a matrix\n",
    "- np.array.reshape() for reshaping a 1D feature vector into a 2D matrix (for rendering)"
   ]
  },
  {
   "cell_type": "code",
   "execution_count": 4,
   "metadata": {},
   "outputs": [
    {
     "data": {
      "image/png": "[encoded data removed]",
      "text/plain": [
       "<matplotlib.figure.Figure at 0x109bd6e10>"
      ]
     },
     "metadata": {},
     "output_type": "display_data"
    }
   ],
   "source": [
    "def P1(num_examples=10):\n",
    "\n",
    "### STUDENT START ###\n",
    "    '''\n",
    "    This function finds and displays the requested number of\n",
    "    examplesof each entry within set of image data\n",
    "        num_examples: The number of examples to display for each entry\n",
    "    '''\n",
    "    # Determine the number of unique entries within the  set\n",
    "    set_size = len(set(train_labels))\n",
    "    \n",
    "    # Get n examples of each label where n = num_examples\n",
    "    digit = []\n",
    "    for x in range(set_size):\n",
    "        digit.append(np.where(train_labels == x)[0][:num_examples])\n",
    "\n",
    "    # Create a plot that is set_size by num_examples large\n",
    "    f, axarr = plt.subplots(set_size, num_examples)\n",
    "    for x in range(set_size):\n",
    "        i = 0\n",
    "        for example in digit[x]:\n",
    "            pixels = train_data[example]\n",
    "            pixels = pixels.reshape((28, 28))\n",
    "            axarr[x, i].imshow(pixels, cmap='gray_r')\n",
    "            axarr[x, i].axis('off')\n",
    "            i = i + 1\n",
    "\n",
    "    plt.show()\n",
    "\n",
    "### STUDENT END ###A\n",
    "\n",
    "P1(10)"
   ]
  },
  {
   "cell_type": "markdown",
   "metadata": {},
   "source": [
    "(2) Evaluate a K-Nearest-Neighbors model with k = [1,3,5,7,9] using the mini training set. Report accuracy on the dev set. For k=1, show precision, recall, and F1 for each label. Which is the most difficult digit?\n",
    "\n",
    "- KNeighborsClassifier() for fitting and predicting\n",
    "- classification_report() for producing precision, recall, F1 results"
   ]
  },
  {
   "cell_type": "code",
   "execution_count": 5,
   "metadata": {
    "collapsed": true
   },
   "outputs": [],
   "source": [
    "# Helper function\n",
    "def get_accuracy(expected_labels, predicted_labels):\n",
    "    '''\n",
    "    Inputs: expected_labels: Array of expected values\n",
    "            predicted_labels: Array of predicted values\n",
    "    Output: The overall accuracy of the predicted labels\n",
    "    '''\n",
    "    err = 0\n",
    "    for expected, predicted in list(zip(expected_labels, predicted_labels)):\n",
    "        if int(predicted) is not int(expected):\n",
    "            err = err + 1\n",
    "    accuracy = 1-(float(err)/len(expected_labels))\n",
    "    return accuracy*100\n"
   ]
  },
  {
   "cell_type": "code",
   "execution_count": 6,
   "metadata": {},
   "outputs": [
    {
     "name": "stdout",
     "output_type": "stream",
     "text": [
      "\t\t\t  k = 1\n",
      "             precision    recall  f1-score   support\n",
      "\n",
      "        0.0       0.91      0.98      0.94        99\n",
      "        1.0       0.89      1.00      0.94       105\n",
      "        2.0       0.99      0.79      0.88       102\n",
      "        3.0       0.77      0.87      0.82        86\n",
      "        4.0       0.89      0.82      0.85       104\n",
      "        5.0       0.93      0.84      0.88        91\n",
      "        6.0       0.94      0.96      0.95        98\n",
      "        7.0       0.89      0.92      0.90       113\n",
      "        8.0       0.94      0.88      0.91        96\n",
      "        9.0       0.78      0.82      0.80       106\n",
      "\n",
      "avg / total       0.89      0.89      0.89      1000\n",
      "\n",
      "k = 1\t Accuracy: 88.80%\n",
      "k = 3\t Accuracy: 87.80%\n",
      "k = 5\t Accuracy: 86.90%\n",
      "k = 7\t Accuracy: 86.50%\n",
      "k = 9\t Accuracy: 86.30%\n"
     ]
    }
   ],
   "source": [
    "def P2(k_values):\n",
    "\n",
    "### STUDENT START ###\n",
    "    # Simplify data / labels references\n",
    "    X = mini_train_data\n",
    "    y = mini_train_labels\n",
    "\n",
    "    for k in k_values:\n",
    "        # Create instance of K-Neighbours Classifier and fit the data.\n",
    "        clf = KNeighborsClassifier(k)\n",
    "        clf.fit(X, y)\n",
    "\n",
    "        # Predict using dev_data\n",
    "        Z = clf.predict(dev_data)\n",
    "\n",
    "        if k is 1:\n",
    "            # Print a classification report for k=1\n",
    "            print \"\\t\\t\\t  k = %i\" % k\n",
    "            print classification_report(dev_labels, Z)\n",
    "\n",
    "        # Print the prediction's accuracy\n",
    "        # Note: This method is faster than calling KNeighborsClassifier.score\n",
    "        print \"k = %i\\t Accuracy: %.2f%%\" % (k, get_accuracy(dev_labels, Z)) \n",
    "### STUDENT END ###\n",
    "\n",
    "k_values = [1, 3, 5, 7, 9]\n",
    "P2(k_values)"
   ]
  },
  {
   "cell_type": "markdown",
   "metadata": {},
   "source": [
    "ANSWER: For **k=1**, **9** is the most difficult digit because it has the lowest f1-score."
   ]
  },
  {
   "cell_type": "markdown",
   "metadata": {},
   "source": [
    "(3) Using k=1, report dev set accuracy for the training set sizes below. Also, measure the amount of time needed for prediction with each training size.\n",
    "\n",
    "- time.time() gives a wall clock value you can use for timing operations"
   ]
  },
  {
   "cell_type": "code",
   "execution_count": 7,
   "metadata": {},
   "outputs": [
    {
     "name": "stdout",
     "output_type": "stream",
     "text": [
      "Size  Accuracy (%)  Computation Time (s)\n",
      "  100          69.7              0.134349\n",
      "  200          78.5              0.293724\n",
      "  400          82.8              0.618323\n",
      "  800          86.0              1.067015\n",
      " 1600          90.3              2.101042\n",
      " 3200          92.8              4.340584\n",
      " 6400          94.4              8.515472\n",
      "12800          95.4             17.608407\n",
      "25000          97.3             36.703067\n"
     ]
    }
   ],
   "source": [
    "def P3(train_sizes, accuracies):\n",
    "\n",
    "### STUDENT START ###\n",
    "    k = 1\n",
    "    time_list = []\n",
    "\n",
    "    for size in train_sizes:\n",
    "        # Shuffle data and labels for the training data set. \n",
    "        # Since these are two seperate arrays it's necessary to create a\n",
    "        # randomized index that applies to both \n",
    "        randomize = np.random.permutation(len(train_data))\n",
    "        size_train_data = train_data[randomize][:size]\n",
    "        size_train_labels = train_labels[randomize][:size]\n",
    "\n",
    "        # Start timer\n",
    "        start = time.time()\n",
    "        \n",
    "        # Train a k-NN model\n",
    "        clf = KNeighborsClassifier(k)\n",
    "        clf.fit(size_train_data, size_train_labels)\n",
    "\n",
    "        # Calculate the model's prediction accuracy\n",
    "        Z = clf.predict(dev_data)\n",
    "        accuracies.append(get_accuracy(dev_labels, Z))\n",
    "        \n",
    "        # Stop timer\n",
    "        end = time.time()\n",
    "        time_list.append(end - start)\n",
    "\n",
    "    # Print results\n",
    "    result_df = pd.DataFrame(zip(train_sizes, accuracies, time_list))\n",
    "    result_df.rename(columns={\n",
    "        0: 'Size', \n",
    "        1: 'Accuracy (%)', \n",
    "        2: 'Computation Time (s)'}, inplace=True)\n",
    "    print result_df.to_string(index=False)\n",
    "### STUDENT END ###\n",
    "\n",
    "train_sizes = [100, 200, 400, 800, 1600, 3200, 6400, 12800, 25000]\n",
    "accuracies = []\n",
    "P3(train_sizes, accuracies)"
   ]
  },
  {
   "cell_type": "markdown",
   "metadata": {},
   "source": [
    "(4) Fit a regression model that predicts accuracy from training size. What does it predict for n=60000? What's wrong with using regression here? Can you apply a transformation that makes the predictions more reasonable?\n",
    "\n",
    "- Remember that the sklearn fit() functions take an input matrix X and output vector Y. So each input example in X is a vector, even if it contains only a single value."
   ]
  },
  {
   "cell_type": "code",
   "execution_count": 8,
   "metadata": {},
   "outputs": [
    {
     "data": {
      "image/png": "[encoded data removed]",
      "text/plain": [
       "<matplotlib.figure.Figure at 0x1086ed290>"
      ]
     },
     "metadata": {},
     "output_type": "display_data"
    },
    {
     "data": {
      "image/png": "[encoded data removed]",
      "text/plain": [
       "<matplotlib.figure.Figure at 0x11dc9ee10>"
      ]
     },
     "metadata": {},
     "output_type": "display_data"
    }
   ],
   "source": [
    "def P4():\n",
    "\n",
    "### STUDENT START ###\n",
    "    # First make train_sizes and accuracies vectors\n",
    "    train_sizes_vec = np.array(train_sizes).reshape(-1,1)\n",
    "    accuracies_vec = np.array(accuracies, dtype=float).reshape(-1,1)/100\n",
    "\n",
    "    # Even though it doesn't look linear, let's fit a linear model\n",
    "    model = LinearRegression()\n",
    "    model.fit(train_sizes_vec, accuracies_vec)\n",
    "    predictions = model.predict(train_sizes_vec)\n",
    "    plt.figure(1)\n",
    "    plt.plot(\n",
    "        train_sizes_vec,\n",
    "        accuracies_vec, \"ko\",\n",
    "        train_sizes_vec,\n",
    "        predictions, \"r-.\")\n",
    "    plt.title(\"Training Set Size vs. Prediction Accuracy with Regression Line\")\n",
    "\n",
    "    # Predict accuracy at n = 60k gives 126.96% which is impossible\n",
    "    pred_60k_linear = model.predict(60000)\n",
    "\n",
    "    # Try k-NN regression\n",
    "    from sklearn.neighbors import KNeighborsRegressor\n",
    "    model = KNeighborsRegressor(n_neighbors=2)\n",
    "    model.fit(train_sizes_vec, accuracies_vec)\n",
    "    predictions = model.predict(train_sizes_vec)\n",
    "    plt.figure(2)\n",
    "    plt.plot(\n",
    "        train_sizes_vec,\n",
    "        accuracies_vec, \"ko\",\n",
    "        train_sizes_vec,\n",
    "        predictions, \"r-.\")\n",
    "    plt.title(\"Training Set Size vs. Prediction Accuracy \\n\"\n",
    "              \"with K-NN Regression Line\")\n",
    "\n",
    "    # For n = 60k the accuracy is 97.29% \n",
    "    pred_60k_KNN = model.predict(60000)\n",
    "\n",
    "### STUDENT END ###\n",
    "\n",
    "P4()"
   ]
  },
  {
   "cell_type": "markdown",
   "metadata": {},
   "source": [
    "ANSWER: For n = 60000 a simple linear regression model predicts a predicition accuracy of over 100% which is impossible. Linear regression assumes that the relashionship between each variable continues for all values but prediction accuracies are only valid from 0% to 100%. A better estimator is the k-NN regressor which predicts a prediction accuracy of 97.29%."
   ]
  },
  {
   "cell_type": "markdown",
   "metadata": {},
   "source": [
    "Fit a 1-NN and output a confusion matrix for the dev data. Use the confusion matrix to identify the most confused pair of digits, and display a few example mistakes.\n",
    "\n",
    "- confusion_matrix() produces a confusion matrix"
   ]
  },
  {
   "cell_type": "code",
   "execution_count": 9,
   "metadata": {
    "collapsed": true
   },
   "outputs": [],
   "source": [
    "# Helper function\n",
    "def plot_confusion_matrix(cm, classes,\n",
    "                          normalize=False,\n",
    "                          title='Confusion matrix',\n",
    "                          cmap=plt.cm.Blues):\n",
    "    \"\"\"\n",
    "    This function prints and plots the confusion matrix.\n",
    "    Normalization can be applied by setting `normalize=True`.\n",
    "    Modified from: http://scikit-learn.org/stable/auto_examples/\n",
    "    model_selection/plot_confusion_matrix.html\n",
    "    \"\"\"\n",
    "    if normalize:\n",
    "        cm = cm.astype('float') / cm.sum(axis=1)[:, np.newaxis]\n",
    "\n",
    "    plt.imshow(cm, interpolation='nearest', cmap=cmap)\n",
    "    plt.title(title)\n",
    "    plt.colorbar()\n",
    "    tick_marks = np.arange(len(classes))\n",
    "    plt.xticks(tick_marks, classes, rotation=45)\n",
    "    plt.yticks(tick_marks, classes)\n",
    "\n",
    "    fmt = '.2f' if normalize else 'd'\n",
    "    thresh = cm.max() / 2.\n",
    "\n",
    "    plt.tight_layout()\n",
    "    plt.ylabel('True label')\n",
    "    plt.xlabel('Predicted label')\n"
   ]
  },
  {
   "cell_type": "code",
   "execution_count": 10,
   "metadata": {},
   "outputs": [
    {
     "data": {
      "image/png": "[encoded data removed]",
      "text/plain": [
       "<matplotlib.figure.Figure at 0x11f619890>"
      ]
     },
     "metadata": {},
     "output_type": "display_data"
    },
    {
     "name": "stdout",
     "output_type": "stream",
     "text": [
      "Confused digits\n"
     ]
    },
    {
     "data": {
      "image/png": "[encoded data removed]",
      "text/plain": [
       "<matplotlib.figure.Figure at 0x11f7ca390>"
      ]
     },
     "metadata": {},
     "output_type": "display_data"
    },
    {
     "data": {
      "image/png": "[encoded data removed]",
      "text/plain": [
       "<matplotlib.figure.Figure at 0x11f91b710>"
      ]
     },
     "metadata": {},
     "output_type": "display_data"
    }
   ],
   "source": [
    "def P5():\n",
    "\n",
    "### STUDENT START ###\n",
    "    k = 1\n",
    "    # Train 1-NN model\n",
    "    clf = KNeighborsClassifier(k)\n",
    "    clf.fit(mini_train_data, mini_train_labels)\n",
    "    \n",
    "    # Predict and generate confusion matrix\n",
    "    predictions = clf.predict(dev_data)\n",
    "    cm = confusion_matrix(dev_labels, predictions)\n",
    "    \n",
    "    # Plot a fancy confusion matrix, also convert labels to ints from floats\n",
    "    plt.figure()\n",
    "    plot_confusion_matrix(cm, classes=[int(i) for i in set(train_labels)],\n",
    "                          title='Confusion matrix')\n",
    "    plt.show()\n",
    "\n",
    "    # The confusion matrix shows that the most commonly confused digits are\n",
    "    # 4 and 9 followed by 3 and 5.\n",
    "    # Find and plot the confused digits\n",
    "    # Use pandas dataframe to identify confused digit pairs\n",
    "    conf_df = pd.DataFrame(\n",
    "        zip(dev_labels, predictions),\n",
    "        columns=['dev_labels', 'predictions'])\n",
    "    confused_49 = conf_df[\n",
    "        ((conf_df[\"dev_labels\"] == 4.0) & (conf_df[\"predictions\"] == 9.0))\n",
    "        | ((conf_df[\"dev_labels\"] == 9.0) & (conf_df[\"predictions\"] == 4.0))]\n",
    "    confused_35 = conf_df[\n",
    "        ((conf_df[\"dev_labels\"] == 3.0) & (conf_df[\"predictions\"] == 5.0))\n",
    "        | ((conf_df[\"dev_labels\"] == 5.0) & (conf_df[\"predictions\"] == 3.0))]\n",
    "\n",
    "    # Collect image data for confused digit pairs\n",
    "    data_49 = dev_data[confused_49.index.values]\n",
    "    data_35 = dev_data[confused_35.index.values]\n",
    "\n",
    "    # Make sure to only attempt to plot data that exists\n",
    "    len_49 = len(data_49) if(len(data_49) < 10) else 10\n",
    "    len_35 = len(data_35) if(len(data_35) < 10) else 10\n",
    "\n",
    "    # Plot the confused digits\n",
    "    # Plot 4's confused with 9's and vice versa\n",
    "    print \"Confused digits\"\n",
    "    f, axarr = plt.subplots(1, len_49)\n",
    "    for x in range(len_49):\n",
    "        pixels = data_49[x]\n",
    "        pixels = pixels.reshape((28, 28))\n",
    "        axarr[x].imshow(pixels, cmap='gray_r')\n",
    "        axarr[x].axis('off')\n",
    "\n",
    "    # Plot 3's confused with 5's and vice versa\n",
    "    f, axarr = plt.subplots(1, len_35)\n",
    "    for x in range(len_35):\n",
    "        pixels = data_35[x]\n",
    "        pixels = pixels.reshape((28, 28))\n",
    "        axarr[x].imshow(pixels, cmap='gray_r')\n",
    "        axarr[x].axis('off')\n",
    "    plt.show()\n",
    "\n",
    "### STUDENT END ###\n",
    "\n",
    "P5()"
   ]
  },
  {
   "cell_type": "markdown",
   "metadata": {},
   "source": [
    "(6) A common image processing technique is to smooth an image by blurring. The idea is that the value of a particular pixel is estimated as the weighted combination of the original value and the values around it. Typically, the blurring is Gaussian -- that is, the weight of a pixel's influence is determined by a Gaussian function over the distance to the relevant pixel.\n",
    "\n",
    "Implement a simplified Gaussian blur by just using the 8 neighboring pixels: the smoothed value of a pixel is a weighted combination of the original value and the 8 neighboring values. Try applying your blur filter in 3 ways:\n",
    "- preprocess the training data but not the dev data\n",
    "- preprocess the dev data but not the training data\n",
    "- preprocess both training and dev data\n",
    "\n",
    "Note that there are Guassian blur filters available, for example in scipy.ndimage.filters. You're welcome to experiment with those, but you are likely to get the best results with the simplified version I described above."
   ]
  },
  {
   "cell_type": "code",
   "execution_count": 77,
   "metadata": {},
   "outputs": [
    {
     "name": "stdout",
     "output_type": "stream",
     "text": [
      "Pre-processing complete\n"
     ]
    }
   ],
   "source": [
    "# Helper functions\n",
    "import scipy.ndimage as ndimage\n",
    "\n",
    "def blur_img(input_img, b_coef=0.5):\n",
    "    '''\n",
    "    Inputs: Array of pixel values\n",
    "            b_coef: Blur coefficient, valid between 0-1\n",
    "    Outputs: Array of pixel values with Gaussian blur applied\n",
    "    '''\n",
    "\n",
    "    # Input validation\n",
    "    b_coef = 0.5 if (type(b_coef) != float) else b_coef\n",
    "    b_coef = 0.5 if (b_coef > 1 or b_coef < 0) else b_coef\n",
    "    \n",
    "    # Weight of neighboring pixels\n",
    "    neighbor_coef = (1.0 - b_coef) / 8\n",
    "\n",
    "    # Reshape input_img to proper 28 x 28 dimensions\n",
    "    input_img = input_img.reshape(28, 28)\n",
    "\n",
    "    # Apply blur to pixels\n",
    "    def simple_gaussian_blur(pixels):\n",
    "        '''\n",
    "        Expects to be called from ndimage.generic_filter\n",
    "        Input: 1d array of pixel values \n",
    "            Pixel layout:\n",
    "            |0|   1                      |2|\n",
    "            |3|   4 (px getting blurred) |5|\n",
    "            |6|   7                      |8|\n",
    "        Output: transformed value at called pixel location\n",
    "        '''\n",
    "        return b_coef * pixels[4] + \\\n",
    "            neighbor_coef * (\n",
    "                pixels[0] + pixels[1] +\n",
    "                pixels[2] + pixels[3] +\n",
    "                pixels[5] + pixels[6] +\n",
    "                pixels[7] + pixels[8])\n",
    "\n",
    "    # Filter array, ndimage.generic_filter uses this filter to pass the pixels\n",
    "    # used for blurring into the simple_gaussian_blur function\n",
    "    fp_3x3 = np.array([[1, 1, 1],\n",
    "                       [1, 1, 1],\n",
    "                       [1, 1, 1]])\n",
    "\n",
    "    return ndimage.generic_filter(\n",
    "        input_img,\n",
    "        simple_gaussian_blur,\n",
    "        footprint=fp_3x3,\n",
    "        mode='constant',\n",
    "        cval=0).flatten()\n",
    "\n",
    "\n",
    "def blur_dataset(data, b_coef=0.5):\n",
    "    \"\"\"\n",
    "    Input: An array of digits\n",
    "    Output: Array with blurred digits\n",
    "    \"\"\"\n",
    "    output_data = np.zeros(data.shape)\n",
    "    for i, digit in enumerate(output_data):\n",
    "        output_data[i] = blur_img(data[i], b_coef)\n",
    "    return output_data\n",
    "\n",
    "# Preprocessing\n",
    "blur1 = 0.25\n",
    "blur2 = 0.75\n",
    "train_data_blurred1 = blur_dataset(train_data, blur1)\n",
    "dev_data_blurred1 = blur_dataset(dev_data, blur1)\n",
    "train_data_blurred2 = blur_dataset(train_data, blur2)\n",
    "dev_data_blurred2 = blur_dataset(dev_data, blur2)\n",
    "print \"Pre-processing complete\""
   ]
  },
  {
   "cell_type": "code",
   "execution_count": 88,
   "metadata": {},
   "outputs": [
    {
     "data": {
      "text/html": [
       "<div>\n",
       "<style>\n",
       "    .dataframe thead tr:only-child th {\n",
       "        text-align: right;\n",
       "    }\n",
       "\n",
       "    .dataframe thead th {\n",
       "        text-align: left;\n",
       "    }\n",
       "\n",
       "    .dataframe tbody tr th {\n",
       "        vertical-align: top;\n",
       "    }\n",
       "</style>\n",
       "<table border=\"1\" class=\"dataframe\">\n",
       "  <thead>\n",
       "    <tr style=\"text-align: right;\">\n",
       "      <th></th>\n",
       "      <th>Model</th>\n",
       "      <th>Accuracy (blur=0.25)</th>\n",
       "      <th>Accuracy (blur=0.75)</th>\n",
       "    </tr>\n",
       "  </thead>\n",
       "  <tbody>\n",
       "    <tr>\n",
       "      <th>0</th>\n",
       "      <td>Blurred training data regular dev data</td>\n",
       "      <td>98.2</td>\n",
       "      <td>97.9</td>\n",
       "    </tr>\n",
       "    <tr>\n",
       "      <th>0</th>\n",
       "      <td>Regular training data with blurred dev data</td>\n",
       "      <td>96.4</td>\n",
       "      <td>97.7</td>\n",
       "    </tr>\n",
       "    <tr>\n",
       "      <th>0</th>\n",
       "      <td>Blurred training data with regular dev data</td>\n",
       "      <td>98.0</td>\n",
       "      <td>97.9</td>\n",
       "    </tr>\n",
       "  </tbody>\n",
       "</table>\n",
       "</div>"
      ],
      "text/plain": [
       "                                         Model  Accuracy (blur=0.25)  \\\n",
       "0       Blurred training data regular dev data                  98.2   \n",
       "0  Regular training data with blurred dev data                  96.4   \n",
       "0  Blurred training data with regular dev data                  98.0   \n",
       "\n",
       "   Accuracy (blur=0.75)  \n",
       "0                  97.9  \n",
       "0                  97.7  \n",
       "0                  97.9  "
      ]
     },
     "metadata": {},
     "output_type": "display_data"
    },
    {
     "name": "stdout",
     "output_type": "stream",
     "text": [
      "None\n"
     ]
    }
   ],
   "source": [
    "def P6():\n",
    "    \n",
    "### STUDENT START ###\n",
    "\n",
    "    k = 1\n",
    "    columns = (\n",
    "        'Model',\n",
    "        'Accuracy (blur=' + str(blur1) + ')',\n",
    "        'Accuracy (blur=' + str(blur2) + ')')\n",
    "\n",
    "    # Blurred training data regular dev data\n",
    "    clf_1_b1 = KNeighborsClassifier(k).fit(train_data_blurred1, train_labels)\n",
    "    clf_1_b2 = KNeighborsClassifier(k).fit(train_data_blurred2, train_labels)\n",
    "    result_df = pd.DataFrame([[\n",
    "        \"Blurred training data regular dev data\",\n",
    "        get_accuracy(dev_labels, clf_1_b1.predict(dev_data)),\n",
    "        get_accuracy(dev_labels, clf_1_b2.predict(dev_data))]],\n",
    "        columns=columns)\n",
    "\n",
    "    # Regular training data blurred dev data\n",
    "    clf_2 = KNeighborsClassifier(k).fit(train_data, train_labels)\n",
    "    result_df = result_df.append(pd.DataFrame([[\n",
    "        \"Regular training data with blurred dev data\",\n",
    "        get_accuracy(dev_labels, clf_2.predict(dev_data_blurred1)),\n",
    "        get_accuracy(dev_labels, clf_2.predict(dev_data_blurred2))]],\n",
    "        columns=columns))\n",
    "\n",
    "    # Blurred training and dev data\n",
    "    clf_3_b1 = KNeighborsClassifier(k).fit(train_data_blurred1, train_labels)\n",
    "    clf_3_b2 = KNeighborsClassifier(k).fit(train_data_blurred2, train_labels)\n",
    "    result_df = result_df.append(pd.DataFrame([[\n",
    "        \"Blurred training data with regular dev data\",\n",
    "        get_accuracy(dev_labels, clf_3_b1.predict(dev_data_blurred1)),\n",
    "        get_accuracy(dev_labels, clf_3_b2.predict(dev_data_blurred2))]],\n",
    "        columns=columns))\n",
    "\n",
    "    # Print results\n",
    "    from IPython.display import display\n",
    "    print display(result_df)\n",
    "\n",
    "### STUDENT END ###\n",
    "\n",
    "P6()"
   ]
  },
  {
   "cell_type": "markdown",
   "metadata": {},
   "source": [
    "ANSWER: Blurring the training data only (model 1) improves model accuracy while bluring the development data and using regular training data has consistently poor performance. Applying blur to both datasets gives performance somewhere in between."
   ]
  },
  {
   "cell_type": "markdown",
   "metadata": {},
   "source": [
    "(7) Fit a Naive Bayes classifier and report accuracy on the dev data. Remember that Naive Bayes estimates P(feature|label). While sklearn can handle real-valued features, let's start by mapping the pixel values to either 0 or 1. You can do this as a preprocessing step, or with the binarize argument. With binary-valued features, you can use BernoulliNB. Next try mapping the pixel values to 0, 1, or 2, representing white, grey, or black. This mapping requires MultinomialNB. Does the multi-class version improve the results? Why or why not?"
   ]
  },
  {
   "cell_type": "code",
   "execution_count": 11,
   "metadata": {},
   "outputs": [
    {
     "name": "stdout",
     "output_type": "stream",
     "text": [
      "BernoulliNB accuracy: 84.5%\n",
      "MultinomialNB accuracy: 82.6%\n"
     ]
    }
   ],
   "source": [
    "def P7():\n",
    "\n",
    "### STUDENT START ###\n",
    "    # Fit model using BernoulliNB and binarize data\n",
    "    bern_clf = BernoulliNB(binarize=0.5)\n",
    "    bern_clf.fit(train_data, train_labels)\n",
    "    print \"BernoulliNB accuracy: {}%\".format(\n",
    "        get_accuracy(dev_labels, bern_clf.predict(dev_data)))\n",
    "\n",
    "    # Fit model using MultinomialNB with tri-narized data\n",
    "    binned_data = np.zeros(train_data.shape)\n",
    "    # Convert pixel values to 3 classes 0, 1, and 2\n",
    "    lower, upper = (0.3333, 0.6666)\n",
    "    for i, pixels in enumerate(train_data):\n",
    "        binned_data[i][pixels < lower] = 0\n",
    "        binned_data[i][np.all([pixels >= lower, pixels < upper], axis=0)] = 1\n",
    "        binned_data[i][pixels >= upper] = 2\n",
    "\n",
    "    # Fit model\n",
    "    multNB_clf = MultinomialNB()\n",
    "    multNB_clf.fit(train_data, train_labels)\n",
    "    print \"MultinomialNB accuracy: {}%\".format(\n",
    "        get_accuracy(dev_labels, multNB_clf.predict(dev_data)))\n",
    "\n",
    "    ### STUDENT END ###\n",
    "\n",
    "P7()"
   ]
  },
  {
   "cell_type": "markdown",
   "metadata": {},
   "source": [
    "ANSWER: The Bernoulli naive Bayes classifier gives a higher prediction accuracy than Multinomial naive Bayes which means that the multi-class version does not improve our results. This is possibly because the multinomial model is overfitted to the training data. The gray values might not provide any or enough extra information to determine a digit's label."
   ]
  },
  {
   "cell_type": "markdown",
   "metadata": {},
   "source": [
    "(8) Use GridSearchCV to perform a search over values of alpha (the Laplace smoothing parameter) in a Bernoulli NB model. What is the best value for alpha? What is the accuracy when alpha=0? Is this what you'd expect?\n",
    "\n",
    "- Note that GridSearchCV partitions the training data so the results will be a bit different than if you used the dev data for evaluation."
   ]
  },
  {
   "cell_type": "code",
   "execution_count": 13,
   "metadata": {},
   "outputs": [],
   "source": [
    "def P8(alphas):\n",
    "\n",
    "    ### STUDENT START ###\n",
    "    Grid = GridSearchCV(BernoulliNB(binarize=0.5), alphas)\n",
    "    Grid.fit(mini_train_data, mini_train_labels)\n",
    "    return Grid\n",
    "\n",
    "    ### STUDENT END ###\n",
    "\n",
    "alphas = {'alpha': [0.0, 0.0001, 0.001, 0.01, 0.1, 0.5, 1.0, 2.0, 10.0]}\n",
    "nb = P8(alphas)\n"
   ]
  },
  {
   "cell_type": "code",
   "execution_count": 15,
   "metadata": {},
   "outputs": [
    {
     "name": "stdout",
     "output_type": "stream",
     "text": [
      "ANSWER: The best alpha value is 0.01 with an accuracy of 82.1%.\n",
      "For alpha = 0 the accuracy was 9.2%, which is far worse than expected\n"
     ]
    }
   ],
   "source": [
    "print \"ANSWER: The best alpha value is {} with an accuracy of {}%.\"\\\n",
    "\"\\nFor alpha = {} the accuracy was {}%, which is far worse than expected\"\\\n",
    "\"\".format(nb.best_params_['alpha'], nb.best_score_*100, int(nb.grid_scores_[0][0]['alpha']), nb.grid_scores_[0][1]*100)"
   ]
  },
  {
   "cell_type": "markdown",
   "metadata": {},
   "source": [
    "(9) Try training a model using GuassianNB, which is intended for real-valued features, and evaluate on the dev data. You'll notice that it doesn't work so well. Try to diagnose the problem. You should be able to find a simple fix that returns the accuracy to around the same rate as BernoulliNB. Explain your solution.\n",
    "\n",
    "Hint: examine the parameters estimated by the fit() method, theta\\_ and sigma\\_."
   ]
  },
  {
   "cell_type": "code",
   "execution_count": 125,
   "metadata": {},
   "outputs": [
    {
     "name": "stdout",
     "output_type": "stream",
     "text": [
      "GaussianNB accuracy: 57.1%\n",
      "Modified GaussianNB accuracy: 83.4%\n"
     ]
    },
    {
     "data": {
      "image/png": "[encoded data removed]",
      "text/plain": [
       "<matplotlib.figure.Figure at 0x112b5f60>"
      ]
     },
     "metadata": {},
     "output_type": "display_data"
    },
    {
     "data": {
      "image/png": "[encoded data removed]",
      "text/plain": [
       "<matplotlib.figure.Figure at 0xf2adf60>"
      ]
     },
     "metadata": {},
     "output_type": "display_data"
    },
    {
     "data": {
      "image/png": "[encoded data removed]",
      "text/plain": [
       "<matplotlib.figure.Figure at 0x10ef3940>"
      ]
     },
     "metadata": {},
     "output_type": "display_data"
    },
    {
     "data": {
      "image/png": "[encoded data removed]",
      "text/plain": [
       "<matplotlib.figure.Figure at 0xe1589e8>"
      ]
     },
     "metadata": {},
     "output_type": "display_data"
    }
   ],
   "source": [
    "def P9():\n",
    "\n",
    "### STUDENT END ###\n",
    "    # Fit model using BernoulliNB and binarize data\n",
    "    gaussian_clf = GaussianNB()\n",
    "    gaussian_clf.fit(train_data, train_labels)\n",
    "    print \"GaussianNB accuracy: {}%\".format(\n",
    "        get_accuracy(dev_labels, gaussian_clf.predict(dev_data)))\n",
    "\n",
    "    plt.figure(1)\n",
    "    plt.hist(gaussian_clf.theta_.flatten(), 100)\n",
    "    plt.title(\"Aggregated Feature Means (theta)\")\n",
    "    plt.figure(2)\n",
    "    plt.hist(gaussian_clf.sigma_.flatten(), 100)\n",
    "    plt.title(\"Aggregated Feature Variance (sigma)\")\n",
    "    \n",
    "    # Our data is super skewed and doesn't really fit a Gaussian model\n",
    "    # Attempt to fit data to a normal (Gaussian) distribution\n",
    "    train_data_modified = (train_data +\n",
    "                           np.random.normal(\n",
    "                               loc=0.5,\n",
    "                               scale=0.5, \n",
    "                               size=train_data.shape))\n",
    "    dev_data_modified = (dev_data +\n",
    "                         np.random.normal(\n",
    "                             loc=0.5,\n",
    "                             scale=0.5,\n",
    "                             size=dev_data.shape))\n",
    "    fixed_gaussian_clf = GaussianNB()\n",
    "    fixed_gaussian_clf.fit(train_data_modified, train_labels)\n",
    "    print \"Modified GaussianNB accuracy: {}%\".format(\n",
    "        get_accuracy(\n",
    "            dev_labels,\n",
    "            fixed_gaussian_clf.predict(dev_data_modified)))\n",
    "\n",
    "    # Plot modified data\n",
    "    plt.figure(3)\n",
    "    plt.hist(fixed_gaussian_clf.theta_.flatten(), 100)\n",
    "    plt.title(\"Aggregated Feature Means modified (theta)\")\n",
    "    plt.figure(4)\n",
    "    plt.hist(fixed_gaussian_clf.sigma_.flatten(), 100)\n",
    "    plt.title(\"Aggregated Feature Variance modified (sigma)\")\n",
    "\n",
    "### STUDENT END ###\n",
    "\n",
    "gnb = P9()"
   ]
  },
  {
   "cell_type": "markdown",
   "metadata": {},
   "source": [
    "ANSWER: The problem is that our data does not fit a Gaussian normal distribution. Most of the values are 0's from the null space in our digit images, which skews the data significantly in one direction. The solution is fit the data to a gausian distribution by adding Gaussian distribution shaped noise to it. This increases the accuracy of the model from 57.1% to 83.4%."
   ]
  },
  {
   "cell_type": "markdown",
   "metadata": {},
   "source": [
    "(10) Because Naive Bayes is a generative model, we can use the trained model to generate digits. Train a BernoulliNB model and then generate a 10x20 grid with 20 examples of each digit. Because you're using a Bernoulli model, each pixel output will be either 0 or 1. How do the generated digits compare to the training digits?\n",
    "\n",
    "- You can use np.random.rand() to generate random numbers from a uniform distribution\n",
    "- The estimated probability of each pixel is stored in feature\\_log\\_prob\\_. You'll need to use np.exp() to convert a log probability back to a probability."
   ]
  },
  {
   "cell_type": "code",
   "execution_count": 16,
   "metadata": {
    "collapsed": true
   },
   "outputs": [],
   "source": [
    "#def P10(num_examples):\n",
    "\n",
    "### STUDENT START ###\n",
    "\n",
    "\n",
    "### STUDENT END ###\n",
    "\n",
    "#P10(20)"
   ]
  },
  {
   "cell_type": "markdown",
   "metadata": {},
   "source": [
    "ANSWER:"
   ]
  },
  {
   "cell_type": "markdown",
   "metadata": {},
   "source": [
    "(11) Remember that a strongly calibrated classifier is rougly 90% accurate when the posterior probability of the predicted class is 0.9. A weakly calibrated classifier is more accurate when the posterior is 90% than when it is 80%. A poorly calibrated classifier has no positive correlation between posterior and accuracy.\n",
    "\n",
    "Train a BernoulliNB model with a reasonable alpha value. For each posterior bucket (think of a bin in a histogram), you want to estimate the classifier's accuracy. So for each prediction, find the bucket the maximum posterior belongs to and update the \"correct\" and \"total\" counters.\n",
    "\n",
    "How would you characterize the calibration for the Naive Bayes model?"
   ]
  },
  {
   "cell_type": "code",
   "execution_count": 17,
   "metadata": {
    "collapsed": true
   },
   "outputs": [],
   "source": [
    "#def P11(buckets, correct, total):\n",
    "    \n",
    "### STUDENT START ###\n",
    "\n",
    "\n",
    "                \n",
    "### STUDENT END ###\n",
    "\n",
    "#buckets = [0.5, 0.9, 0.999, 0.99999, 0.9999999, 0.999999999, 0.99999999999, 0.9999999999999, 1.0]\n",
    "#correct = [0 for i in buckets]\n",
    "#total = [0 for i in buckets]\n",
    "\n",
    "#P11(buckets, correct, total)\n",
    "\n",
    "#for i in range(len(buckets)):\n",
    "#    accuracy = 0.0\n",
    "#    if (total[i] > 0): accuracy = correct[i] / total[i]\n",
    "#    print 'p(pred) <= %.13f    total = %3d    accuracy = %.3f' %(buckets[i], total[i], accuracy)"
   ]
  },
  {
   "cell_type": "markdown",
   "metadata": {},
   "source": [
    "ANSWER:"
   ]
  },
  {
   "cell_type": "markdown",
   "metadata": {},
   "source": [
    "(12) EXTRA CREDIT\n",
    "\n",
    "Try designing extra features to see if you can improve the performance of Naive Bayes on the dev set. Here are a few ideas to get you started:\n",
    "- Try summing the pixel values in each row and each column.\n",
    "- Try counting the number of enclosed regions; 8 usually has 2 enclosed regions, 9 usually has 1, and 7 usually has 0.\n",
    "\n",
    "Make sure you comment your code well!"
   ]
  },
  {
   "cell_type": "code",
   "execution_count": 18,
   "metadata": {
    "collapsed": true
   },
   "outputs": [],
   "source": [
    "#def P12():\n",
    "\n",
    "### STUDENT START ###\n",
    "\n",
    "\n",
    "### STUDENT END ###\n",
    "\n",
    "#P12()"
   ]
  }
 ],
 "metadata": {
  "anaconda-cloud": {},
  "kernelspec": {
   "display_name": "Python [default]",
   "language": "python",
   "name": "python2"
  },
  "language_info": {
   "codemirror_mode": {
    "name": "ipython",
    "version": 2
   },
   "file_extension": ".py",
   "mimetype": "text/x-python",
   "name": "python",
   "nbconvert_exporter": "python",
   "pygments_lexer": "ipython2",
   "version": "2.7.13"
  }
 },
 "nbformat": 4,
 "nbformat_minor": 1
}
